{
 "cells": [
  {
   "cell_type": "code",
   "execution_count": 1,
   "metadata": {
    "collapsed": true
   },
   "outputs": [],
   "source": [
    "from Bio import SeqIO"
   ]
  },
  {
   "cell_type": "markdown",
   "metadata": {},
   "source": [
    "# checking data files"
   ]
  },
  {
   "cell_type": "code",
   "execution_count": 2,
   "metadata": {
    "collapsed": false,
    "scrolled": true
   },
   "outputs": [
    {
     "name": "stdout",
     "output_type": "stream",
     "text": [
      "Geoduck-transcriptome-v2-1-GO-Slim.xlsx\r\n",
      "Geoduck-transcriptome-v2-GO-Slim.csv\r\n",
      "\u001b[31mGeoduck-transcriptome-v2-GO-Slim.xlsx\u001b[m\u001b[m\r\n",
      "Geoduck-transcriptome-v2-GO-Slim2.csv\r\n",
      "Geoduck-transcriptome-v2-GO-SlimAnalisis.xlsx\r\n",
      "Geoduck-transcriptome-v2-GO-SlimReproduction.xlsx\r\n",
      "Geoduck-transcriptome-v2-GO-SlimUnique.csv\r\n",
      "Geoduck-transcriptome-v2-GO-SlimUnique.xlsx\r\n",
      "\u001b[31mGeoduck-transcriptome-v2-GO-Slim_2.xlsx\u001b[m\u001b[m\r\n",
      "\u001b[31mGeoduck-transcriptome-v2.fasta\u001b[m\u001b[m\r\n",
      "Geoduck-transcriptome-v2.transdecoder.bed\r\n",
      "Geoduck-transcriptome-v2.transdecoder.cds\r\n",
      "Geoduck-transcriptome-v2.transdecoder.gff3\r\n",
      "Geoduck-transcriptome-v2.transdecoder.pep\r\n",
      "Geoduck-transcriptome-v3-GO-contigs.xlsx\r\n",
      "Geoduck-transcriptome-v3-GO-contigsResplado.xlsx\r\n",
      "Geoduck-transcriptome-v3.fa\r\n",
      "Geoduck-transcriptome-v3.out\r\n",
      "Geoduck-transcriptome-v3a.fa\r\n",
      "Geoduck-transcriptome-v3a.out\r\n",
      "Geoduck-tranv2-GO.csv\r\n",
      "Geoduck-tranv2-GO.xlsx\r\n",
      "Geoduck-tranv2-GO_steven.csv\r\n",
      "Geoduck-tranv2-blastx_sprot.tab\r\n",
      "\u001b[31mGeoduck-tranv2-blastx_sprot.xlsx\u001b[m\u001b[m\r\n",
      "blastout_query.part-01.fasta_sp.txt\r\n",
      "~$Geoduck-transcriptome-v2-1-GO-Slim.xlsx\r\n",
      "~$Geoduck-transcriptome-v2-GO-SlimAnalisis.xlsx\r\n",
      "~$Geoduck-transcriptome-v3-GO-contigs.xlsx\r\n"
     ]
    }
   ],
   "source": [
    "!ls ../panopea_data/data-results/"
   ]
  },
  {
   "cell_type": "code",
   "execution_count": 3,
   "metadata": {
    "collapsed": false
   },
   "outputs": [
    {
     "name": "stdout",
     "output_type": "stream",
     "text": [
      ">comp100000_c0_seq1\r\n",
      "TGAATGTATGTTTGTGAACGTATGTATATGAATGTATGTATGTGAATGCATACCATCTGTATAAGTATAATCCGACCGGGAGATGTTTATTCACACAGTTTGGCATTATGACGTTTAACCTCTGAATTGGCGTCTCTTGCTACTGACCGCTTCACAGTGATGACCCATGTTGTCACTTCTAATCTATTTATGTATTGCTCTTTTATATTATACTATTAACGCTGTTAAAATACACTACCGCTAAACAAATAAGAGTTGTGGGTTTGAATCATTGGTGAGTGCAGGAACCTCAGCAGGTCATTAAGATTTACGTGTACGTCTATCCTAAACCTACATGTTTCAACTTTGTTGTTTTTCGGTTTCGTTCTCTGTACACAGCTCTTGAAACATACATAAAATACCATTTTATTAAAAAATATGTCTCTATTTAATGTTAAAACCTTTTTAAGAAAA\r\n",
      ">comp100001_c1_seq1\r\n",
      "GCTTTACCAGTTGTTACAAACATTTTAATAGTTATAGTTAATATACACAACATTTTAAATTAACTAGTGTCGAGAACTTGAGTCGGACATAGAGAATTAAATGTTTGTTGAACTTTAGCCAAGCACTTTTATTCTATTACTTTTTGAAGTATTTAATACCTTAAAATAATGGAATACTCCTGTAGAGTCCTTGAAGCCATCAACAATTTACCAACCTCCAAATAAAATATGAATATATTTTACATGATGAATTTACATAATGGATATATCATTGATATCTGCCAAGTTAACTTCACCTACCATTTTTAAGCTTACTTTGACCATGTTAGTTGGTATTGTGTATATAACGAGTGGGAGGACATTCATACCTGGCATTTGTTTGGTCAAACTGACACAAGATTTATGTTTATTTCAAACCTATATATAAAACAAGTCTCAATGAATATCTTCCTAGGCACAAGACAATGCTGATAAAATGTCTTGTTCAAGGACA\r\n",
      ">comp100001_c2_seq1\r\n",
      "AGTAACAAAAACAACCCAAACTCTACCATAATCAATTTATACAAAGTCTTGATTTTATCTTAATATCACAAATGAAATCAATTAGTATATATATTTGTATATATTTCAGAAATATAGAAAACAATTACCAGTTTTTAAGTGTAATTAAAACATCTAAATCACCCCCACAGCAATACAAAATACATTTTTATATAGAATACAAAAATTATTGGGATAAAAACAGTAAAAAATATTTGAATTCAGCAACAGCTACAATAGTTTCCTTCAAGGAGGTGAACATAACATCACAACAACAAAAATATGGTCAATTGTAAAATGAGATGTGTGATCTACGTAGGCTAGAAAAATGTTCAACAAAATATACAGCATGCACACAACATGAACATGTACAATGAGAGATGGAGAAGCGGTTAGTTAGGAGGTCTATAGGCTGTGGTAACCACTACAATGTAGATGGCAGCACATTTATCACACATCACGCTAGCATTTCAGCAAACCTTCAATGCTAAAAACCAACTATATCTACTTCAAAACAGCTTTACCAGTTGTTACAAACAT\r\n",
      ">comp100002_c0_seq1\r\n",
      "GGGACGTATTGACTCACTCAGCTGTGATTTCAACTCCTCTATCAACTCTTCCCGTTGTTGCAACTCTTTCGAAACTTTCTTTTCCAGACCACGAGGTCGACGGCCACGCAAACACTGAAAAGACACAGCCATGTAATCATGGAAACTTAACATTATACTCAATGTTGAAAAAGTATGTCAAAACATTTCCATACACGTATAGCCAAAT\r\n",
      ">comp100004_c1_seq1\r\n",
      "AAGTAAATAATGCTTGACCTTCACAGCAATATGATCGCATCTGATAAGTAATCAGCTACATAAGGTCAAATAAATTGGATTCTGTATTTGCTGTAACATGGATAAAAAACATTGGGAATTTTTGTGGACACAAGTTTAACACCAATCTGACAGATACAAAGTGCTAGTATAAAACAGTTACAAGACACGAACACACACATTGAAAGGATTTAAATACCAAGTGACGTTTAAACATTGAAATGCCATTAACCTCAAATGATTATGTTAAAAAATTCA\r\n"
     ]
    }
   ],
   "source": [
    "# seeing a fasta file\n",
    "!head ../panopea_data/data-results/Geoduck-transcriptome-v3a.fa"
   ]
  },
  {
   "cell_type": "markdown",
   "metadata": {},
   "source": [
    "# data are sorted using contig name"
   ]
  },
  {
   "cell_type": "markdown",
   "metadata": {},
   "source": [
    "# data on screen with the following data separated by tabs\n",
    "record-name, length, sequence"
   ]
  },
  {
   "cell_type": "code",
   "execution_count": null,
   "metadata": {
    "collapsed": true
   },
   "outputs": [],
   "source": [
    "input_file = open('../panopea_data/data-results/Geoduck-transcriptome-v3a.fa', 'r')\n",
    "for cur_record in SeqIO.parse(input_file, \"fasta\") :\n",
    "    print (cur_record.name+ \"\\t\" + str(len(cur_record.seq))+ \"\\t\" +cur_record.seq+ \"\\n\")"
   ]
  },
  {
   "cell_type": "markdown",
   "metadata": {},
   "source": [
    "# data in a file with the following data separated by tabs\n",
    "record-name, length, sequence"
   ]
  },
  {
   "cell_type": "code",
   "execution_count": null,
   "metadata": {
    "collapsed": true
   },
   "outputs": [],
   "source": [
    "input_file = open('../panopea_data/data-results/Geoduck-transcriptome-v3.fa', 'r')\n",
    "output_file = open('../panopea_data/data-results/Geoduck-transcriptome-v3.out','w')\n",
    "output_file.writelines(\"contig\"+ \"\\t\" + \"len\" + \"\\t\" +\"sequence\"+ \"\\n\")\n",
    "\n",
    "\n",
    "for cur_record in SeqIO.parse(input_file, \"fasta\") :\n",
    "    output_file.writelines(cur_record.name+ \"\\t\" + str(len(cur_record.seq))+ \"\\t\" +cur_record.seq+ \"\\n\")\n",
    "\n",
    "# close ouputfile\n",
    "output_file.close()\n",
    "\n",
    "#close the input file:\n",
    "input_file.close()"
   ]
  },
  {
   "cell_type": "markdown",
   "metadata": {},
   "source": [
    "# data in a file with record-name only\n"
   ]
  },
  {
   "cell_type": "code",
   "execution_count": 5,
   "metadata": {
    "collapsed": true
   },
   "outputs": [],
   "source": [
    "input_file = open('../panopea_data/data-results/Geoduck-transcriptome-v3.fa', 'r')\n",
    "output_file = open('../panopea_data/data-results/Geoduck-transcriptome-v3-names.out','w')\n",
    "output_file.writelines(\"contig\"+ \"\\n\")\n",
    "\n",
    "\n",
    "for cur_record in SeqIO.parse(input_file, \"fasta\") :\n",
    "    output_file.writelines(cur_record.name+ \"\\n\")\n",
    "\n",
    "# close ouputfile\n",
    "output_file.close()\n",
    "\n",
    "#close the input file:\n",
    "input_file.close()"
   ]
  },
  {
   "cell_type": "code",
   "execution_count": null,
   "metadata": {
    "collapsed": true
   },
   "outputs": [],
   "source": []
  }
 ],
 "metadata": {
  "kernelspec": {
   "display_name": "Python 3",
   "language": "python",
   "name": "python3"
  },
  "language_info": {
   "codemirror_mode": {
    "name": "ipython",
    "version": 3
   },
   "file_extension": ".py",
   "mimetype": "text/x-python",
   "name": "python",
   "nbconvert_exporter": "python",
   "pygments_lexer": "ipython3",
   "version": "3.4.3"
  }
 },
 "nbformat": 4,
 "nbformat_minor": 0
}
